{
 "cells": [
  {
   "cell_type": "markdown",
   "id": "88095a2a",
   "metadata": {},
   "source": [
    "## Costco stock price analysis\n",
    "\n",
    "The Costco stock price is interesting to look at. The stock price of Costco has exprienced ups and downs since Covid. A quantitative analysis will be conducted for Costco stock price.\n",
    "\n",
    "Require information from Yahoo Finance, the examine the returned JSON object"
   ]
  },
  {
   "cell_type": "code",
   "execution_count": 1,
   "id": "b24086ac",
   "metadata": {},
   "outputs": [],
   "source": [
    "import numpy as np\n",
    "import pandas as pd\n",
    "import matplotlib.pyplot as plt\n",
    "from pandas_datareader import data as pdr\n",
    "\n",
    "import yfinance as yf"
   ]
  },
  {
   "cell_type": "code",
   "execution_count": 2,
   "id": "aa8fa533",
   "metadata": {},
   "outputs": [
    {
     "data": {
      "text/plain": [
       "{'zip': '98027',\n",
       " 'sector': 'Consumer Defensive',\n",
       " 'fullTimeEmployees': 304000,\n",
       " 'longBusinessSummary': 'Costco Wholesale Corporation, together with its subsidiaries, engages in the operation of membership warehouses in the United States, Puerto Rico, Canada, the United Kingdom, Mexico, Japan, Korea, Australia, Spain, France, Iceland, China, and Taiwan. It offers branded and private-label products in a range of merchandise categories. The company offers sundries, dry groceries, candies, coolers, freezers, liquor, and tobacco and deli products; appliances, electronics, health and beauty aids, hardware, garden and patio products, sporting goods, tires, toys and seasonal products, office supplies, automotive care products, postages, tickets, apparel, small appliances, furniture, domestics, housewares, special order kiosks, and jewelry; and meat, produce, service deli, and bakery products. It also operates pharmacies, optical, food courts, hearing aids, and tire installation centers, as well as 668 gas stations; and offers online business delivery, travel, same-day grocery, and various other services. As of August 28, 2022, the company operated 838 membership warehouses, including 578 in the United States and Puerto Rico, 107 in Canada, 40 in Mexico, 31 in Japan, 29 in the United Kingdom, 17 in Korea, 14 in Taiwan, 13 in Australia, 4 in Spain, 1 in Iceland, 2 in France, and 2 in China. It also operates e-commerce websites in the United States, Canada, the United Kingdom, Mexico, Korea, Taiwan, Japan, and Australia. The company was formerly known as Costco Companies, Inc. and changed its name to Costco Wholesale Corporation in August 1999. Costco Wholesale Corporation was founded in 1976 and is based in Issaquah, Washington.',\n",
       " 'city': 'Issaquah',\n",
       " 'phone': '425 313 8100',\n",
       " 'state': 'WA',\n",
       " 'country': 'United States',\n",
       " 'companyOfficers': [],\n",
       " 'website': 'https://www.costco.com',\n",
       " 'maxAge': 1,\n",
       " 'address1': '999 Lake Drive',\n",
       " 'industry': 'Discount Stores',\n",
       " 'ebitdaMargins': 0.04271,\n",
       " 'profitMargins': 0.02575,\n",
       " 'grossMargins': 0.12149,\n",
       " 'operatingCashflow': 7392000000,\n",
       " 'revenueGrowth': 0.15,\n",
       " 'operatingMargins': 0.03434,\n",
       " 'ebitda': 9692999680,\n",
       " 'targetLowPrice': 455,\n",
       " 'recommendationKey': 'buy',\n",
       " 'grossProfits': 27572000000,\n",
       " 'freeCashflow': 2280875008,\n",
       " 'targetMedianPrice': 565,\n",
       " 'currentPrice': 523.67,\n",
       " 'earningsGrowth': 0.117,\n",
       " 'currentRatio': 1.022,\n",
       " 'returnOnAssets': 0.07892,\n",
       " 'numberOfAnalystOpinions': 29,\n",
       " 'targetMeanPrice': 563.03,\n",
       " 'debtToEquity': 52.821,\n",
       " 'returnOnEquity': 0.30549,\n",
       " 'targetHighPrice': 678,\n",
       " 'totalCash': 11048999936,\n",
       " 'totalDebt': 10906000384,\n",
       " 'totalRevenue': 226954002432,\n",
       " 'totalCashPerShare': 24.964,\n",
       " 'financialCurrency': 'USD',\n",
       " 'revenuePerShare': 511.56,\n",
       " 'quickRatio': 0.415,\n",
       " 'recommendationMean': 2.1,\n",
       " 'exchange': 'NMS',\n",
       " 'shortName': 'Costco Wholesale Corporation',\n",
       " 'longName': 'Costco Wholesale Corporation',\n",
       " 'exchangeTimezoneName': 'America/New_York',\n",
       " 'exchangeTimezoneShortName': 'EST',\n",
       " 'isEsgPopulated': False,\n",
       " 'gmtOffSetMilliseconds': '-18000000',\n",
       " 'quoteType': 'EQUITY',\n",
       " 'symbol': 'COST',\n",
       " 'messageBoardId': 'finmb_92817',\n",
       " 'market': 'us_market',\n",
       " 'annualHoldingsTurnover': None,\n",
       " 'enterpriseToRevenue': 1.021,\n",
       " 'beta3Year': None,\n",
       " 'enterpriseToEbitda': 23.898,\n",
       " '52WeekChange': -0.029611766,\n",
       " 'morningStarRiskRating': None,\n",
       " 'forwardEps': 16.15,\n",
       " 'revenueQuarterlyGrowth': None,\n",
       " 'sharesOutstanding': 442604000,\n",
       " 'fundInceptionDate': None,\n",
       " 'annualReportExpenseRatio': None,\n",
       " 'totalAssets': None,\n",
       " 'bookValue': 46.631,\n",
       " 'sharesShort': 4558405,\n",
       " 'sharesPercentSharesOut': 0.010299999,\n",
       " 'fundFamily': None,\n",
       " 'lastFiscalYearEnd': 1661644800,\n",
       " 'heldPercentInstitutions': 0.69106,\n",
       " 'netIncomeToCommon': 5843999744,\n",
       " 'trailingEps': 13.14,\n",
       " 'lastDividendValue': 0.9,\n",
       " 'SandP52WeekChange': -0.15323704,\n",
       " 'priceToBook': 11.2300825,\n",
       " 'heldPercentInsiders': 0.00219,\n",
       " 'nextFiscalYearEnd': 1724803200,\n",
       " 'yield': None,\n",
       " 'mostRecentQuarter': 1661644800,\n",
       " 'shortRatio': 2.12,\n",
       " 'sharesShortPreviousMonthDate': 1664496000,\n",
       " 'floatShares': 441298463,\n",
       " 'beta': 0.717083,\n",
       " 'enterpriseValue': 231640514560,\n",
       " 'priceHint': 2,\n",
       " 'threeYearAverageReturn': None,\n",
       " 'lastSplitDate': 947808000,\n",
       " 'lastSplitFactor': '2:1',\n",
       " 'legalType': None,\n",
       " 'lastDividendDate': 1666828800,\n",
       " 'morningStarOverallRating': None,\n",
       " 'earningsQuarterlyGrowth': 0.119,\n",
       " 'priceToSalesTrailing12Months': 1.0212573,\n",
       " 'dateShortInterest': 1667174400,\n",
       " 'pegRatio': 3.17,\n",
       " 'ytdReturn': None,\n",
       " 'forwardPE': 32.42539,\n",
       " 'lastCapGain': None,\n",
       " 'shortPercentOfFloat': 0.010299999,\n",
       " 'sharesShortPriorMonth': 4175608,\n",
       " 'impliedSharesOutstanding': 0,\n",
       " 'category': None,\n",
       " 'fiveYearAverageReturn': None,\n",
       " 'previousClose': 521.32,\n",
       " 'regularMarketOpen': 526.87,\n",
       " 'twoHundredDayAverage': 513.1994,\n",
       " 'trailingAnnualDividendYield': 0.006483542,\n",
       " 'payoutRatio': 0.2572,\n",
       " 'volume24Hr': None,\n",
       " 'regularMarketDayHigh': 529.54,\n",
       " 'navPrice': None,\n",
       " 'averageDailyVolume10Day': 2052000,\n",
       " 'regularMarketPreviousClose': 521.32,\n",
       " 'fiftyDayAverage': 491.1172,\n",
       " 'trailingAnnualDividendRate': 3.38,\n",
       " 'open': 526.87,\n",
       " 'toCurrency': None,\n",
       " 'averageVolume10days': 2052000,\n",
       " 'expireDate': None,\n",
       " 'algorithm': None,\n",
       " 'dividendRate': 3.6,\n",
       " 'exDividendDate': 1666828800,\n",
       " 'circulatingSupply': None,\n",
       " 'startDate': None,\n",
       " 'regularMarketDayLow': 518.19,\n",
       " 'currency': 'USD',\n",
       " 'trailingPE': 39.85312,\n",
       " 'regularMarketVolume': 1584684,\n",
       " 'lastMarket': None,\n",
       " 'maxSupply': None,\n",
       " 'openInterest': None,\n",
       " 'marketCap': 231778435072,\n",
       " 'volumeAllCurrencies': None,\n",
       " 'strikePrice': None,\n",
       " 'averageVolume': 2134293,\n",
       " 'dayLow': 518.19,\n",
       " 'ask': 523.67,\n",
       " 'askSize': 900,\n",
       " 'volume': 1584684,\n",
       " 'fiftyTwoWeekHigh': 612.27,\n",
       " 'fromCurrency': None,\n",
       " 'fiveYearAvgDividendYield': 0.83,\n",
       " 'fiftyTwoWeekLow': 406.51,\n",
       " 'bid': 523.03,\n",
       " 'tradeable': False,\n",
       " 'dividendYield': 0.0069,\n",
       " 'bidSize': 1100,\n",
       " 'dayHigh': 529.54,\n",
       " 'coinMarketCapLink': None,\n",
       " 'regularMarketPrice': 523.67,\n",
       " 'preMarketPrice': None,\n",
       " 'logo_url': 'https://logo.clearbit.com/costco.com'}"
      ]
     },
     "execution_count": 2,
     "metadata": {},
     "output_type": "execute_result"
    }
   ],
   "source": [
    "costco = yf.Ticker(\"COST\")\n",
    "\n",
    "# The info property contains all the key financial data\n",
    "costco.info"
   ]
  },
  {
   "cell_type": "markdown",
   "id": "af555402",
   "metadata": {},
   "source": [
    "### 1.Fundemental analysis\n",
    "\n",
    "Grab the following key financial numbers, and store these numbers into a dataframe\n",
    "<ul>\n",
    "    <li>Market capitalization</li>\n",
    "    <li>52-week high</li>\n",
    "    <li>52-week low</li>\n",
    "    <li>PE ratio (price to earning ratio)</li>\n",
    "    <li>ROE Return on equity</li>\n",
    "    <li>Dividend</li>\n",
    "</ul>\n",
    "    "
   ]
  },
  {
   "cell_type": "code",
   "execution_count": 5,
   "id": "44c7d1d0",
   "metadata": {},
   "outputs": [
    {
     "data": {
      "text/html": [
       "<div>\n",
       "<style scoped>\n",
       "    .dataframe tbody tr th:only-of-type {\n",
       "        vertical-align: middle;\n",
       "    }\n",
       "\n",
       "    .dataframe tbody tr th {\n",
       "        vertical-align: top;\n",
       "    }\n",
       "\n",
       "    .dataframe thead th {\n",
       "        text-align: right;\n",
       "    }\n",
       "</style>\n",
       "<table border=\"1\" class=\"dataframe\">\n",
       "  <thead>\n",
       "    <tr style=\"text-align: right;\">\n",
       "      <th></th>\n",
       "      <th>Marketcap</th>\n",
       "      <th>52-week high</th>\n",
       "      <th>52-week low</th>\n",
       "      <th>PE ratio</th>\n",
       "      <th>ROE</th>\n",
       "    </tr>\n",
       "  </thead>\n",
       "  <tbody>\n",
       "    <tr>\n",
       "      <th>0</th>\n",
       "      <td>231778435072</td>\n",
       "      <td>612.27</td>\n",
       "      <td>406.51</td>\n",
       "      <td>39.85312</td>\n",
       "      <td>0.30549</td>\n",
       "    </tr>\n",
       "  </tbody>\n",
       "</table>\n",
       "</div>"
      ],
      "text/plain": [
       "      Marketcap  52-week high  52-week low  PE ratio      ROE\n",
       "0  231778435072        612.27       406.51  39.85312  0.30549"
      ]
     },
     "execution_count": 5,
     "metadata": {},
     "output_type": "execute_result"
    }
   ],
   "source": [
    "df_fundementals = pd.DataFrame(\n",
    "    {\n",
    "        'Marketcap':[costco.info['marketCap']],\n",
    "        '52-week high':[costco.info['fiftyTwoWeekHigh']],\n",
    "        '52-week low':[costco.info['fiftyTwoWeekLow']],\n",
    "        'PE ratio':[costco.info[\"trailingPE\"]],\n",
    "        'ROE':[costco.info[\"returnOnEquity\"]]\n",
    "    }\n",
    ")\n",
    "\n",
    "df_fundementals"
   ]
  },
  {
   "cell_type": "markdown",
   "id": "654dc572",
   "metadata": {},
   "source": [
    "### 2.Technical analysis\n",
    "\n",
    "perform a linear regression model"
   ]
  },
  {
   "cell_type": "code",
   "execution_count": 6,
   "id": "a116b1a2",
   "metadata": {},
   "outputs": [],
   "source": [
    "from sklearn.model_selection import train_test_split"
   ]
  },
  {
   "cell_type": "markdown",
   "id": "1c9d506f",
   "metadata": {},
   "source": [
    "Prepare the Costco data from 2020-01-01 to 2022-11-01"
   ]
  },
  {
   "cell_type": "code",
   "execution_count": 7,
   "id": "16f54b4b",
   "metadata": {},
   "outputs": [
    {
     "name": "stdout",
     "output_type": "stream",
     "text": [
      "[*********************100%***********************]  1 of 1 completed\n"
     ]
    }
   ],
   "source": [
    "df_costco = pd.DataFrame()\n",
    "\n",
    "startDate = \"2020-01-01\"\n",
    "endDate = \"2022-11-01\"\n",
    "\n",
    "df_costco = yf.download(\"COST\", start=startDate, end=endDate)"
   ]
  },
  {
   "cell_type": "markdown",
   "id": "1a9f717b",
   "metadata": {},
   "source": [
    "Examine the first 5 and last 5 rows of data"
   ]
  },
  {
   "cell_type": "code",
   "execution_count": 8,
   "id": "6a222965",
   "metadata": {},
   "outputs": [
    {
     "data": {
      "text/html": [
       "<div>\n",
       "<style scoped>\n",
       "    .dataframe tbody tr th:only-of-type {\n",
       "        vertical-align: middle;\n",
       "    }\n",
       "\n",
       "    .dataframe tbody tr th {\n",
       "        vertical-align: top;\n",
       "    }\n",
       "\n",
       "    .dataframe thead th {\n",
       "        text-align: right;\n",
       "    }\n",
       "</style>\n",
       "<table border=\"1\" class=\"dataframe\">\n",
       "  <thead>\n",
       "    <tr style=\"text-align: right;\">\n",
       "      <th></th>\n",
       "      <th>Open</th>\n",
       "      <th>High</th>\n",
       "      <th>Low</th>\n",
       "      <th>Close</th>\n",
       "      <th>Adj Close</th>\n",
       "      <th>Volume</th>\n",
       "    </tr>\n",
       "    <tr>\n",
       "      <th>Date</th>\n",
       "      <th></th>\n",
       "      <th></th>\n",
       "      <th></th>\n",
       "      <th></th>\n",
       "      <th></th>\n",
       "      <th></th>\n",
       "    </tr>\n",
       "  </thead>\n",
       "  <tbody>\n",
       "    <tr>\n",
       "      <th>2020-01-02</th>\n",
       "      <td>294.059998</td>\n",
       "      <td>294.579987</td>\n",
       "      <td>291.000000</td>\n",
       "      <td>291.489990</td>\n",
       "      <td>277.666992</td>\n",
       "      <td>2103600</td>\n",
       "    </tr>\n",
       "    <tr>\n",
       "      <th>2020-01-03</th>\n",
       "      <td>290.049988</td>\n",
       "      <td>292.899994</td>\n",
       "      <td>289.329987</td>\n",
       "      <td>291.730011</td>\n",
       "      <td>277.895630</td>\n",
       "      <td>1926000</td>\n",
       "    </tr>\n",
       "    <tr>\n",
       "      <th>2020-01-06</th>\n",
       "      <td>290.549988</td>\n",
       "      <td>292.070007</td>\n",
       "      <td>288.619995</td>\n",
       "      <td>291.809998</td>\n",
       "      <td>277.971741</td>\n",
       "      <td>2655100</td>\n",
       "    </tr>\n",
       "    <tr>\n",
       "      <th>2020-01-07</th>\n",
       "      <td>291.320007</td>\n",
       "      <td>291.690002</td>\n",
       "      <td>289.279999</td>\n",
       "      <td>291.350006</td>\n",
       "      <td>277.533630</td>\n",
       "      <td>1963400</td>\n",
       "    </tr>\n",
       "    <tr>\n",
       "      <th>2020-01-08</th>\n",
       "      <td>290.989990</td>\n",
       "      <td>295.480011</td>\n",
       "      <td>290.500000</td>\n",
       "      <td>294.690002</td>\n",
       "      <td>280.715210</td>\n",
       "      <td>2492800</td>\n",
       "    </tr>\n",
       "    <tr>\n",
       "      <th>...</th>\n",
       "      <td>...</td>\n",
       "      <td>...</td>\n",
       "      <td>...</td>\n",
       "      <td>...</td>\n",
       "      <td>...</td>\n",
       "      <td>...</td>\n",
       "    </tr>\n",
       "    <tr>\n",
       "      <th>2022-10-25</th>\n",
       "      <td>493.320007</td>\n",
       "      <td>500.190002</td>\n",
       "      <td>490.500000</td>\n",
       "      <td>499.059998</td>\n",
       "      <td>498.160706</td>\n",
       "      <td>2130900</td>\n",
       "    </tr>\n",
       "    <tr>\n",
       "      <th>2022-10-26</th>\n",
       "      <td>498.000000</td>\n",
       "      <td>507.420013</td>\n",
       "      <td>495.690002</td>\n",
       "      <td>499.450012</td>\n",
       "      <td>498.550018</td>\n",
       "      <td>2088700</td>\n",
       "    </tr>\n",
       "    <tr>\n",
       "      <th>2022-10-27</th>\n",
       "      <td>499.809998</td>\n",
       "      <td>503.010010</td>\n",
       "      <td>494.140015</td>\n",
       "      <td>496.540009</td>\n",
       "      <td>496.540009</td>\n",
       "      <td>1576600</td>\n",
       "    </tr>\n",
       "    <tr>\n",
       "      <th>2022-10-28</th>\n",
       "      <td>497.299988</td>\n",
       "      <td>512.820007</td>\n",
       "      <td>495.970001</td>\n",
       "      <td>510.869995</td>\n",
       "      <td>510.869995</td>\n",
       "      <td>2369300</td>\n",
       "    </tr>\n",
       "    <tr>\n",
       "      <th>2022-10-31</th>\n",
       "      <td>509.640015</td>\n",
       "      <td>509.640015</td>\n",
       "      <td>500.500000</td>\n",
       "      <td>501.500000</td>\n",
       "      <td>501.500000</td>\n",
       "      <td>2192200</td>\n",
       "    </tr>\n",
       "  </tbody>\n",
       "</table>\n",
       "<p>714 rows × 6 columns</p>\n",
       "</div>"
      ],
      "text/plain": [
       "                  Open        High         Low       Close   Adj Close  \\\n",
       "Date                                                                     \n",
       "2020-01-02  294.059998  294.579987  291.000000  291.489990  277.666992   \n",
       "2020-01-03  290.049988  292.899994  289.329987  291.730011  277.895630   \n",
       "2020-01-06  290.549988  292.070007  288.619995  291.809998  277.971741   \n",
       "2020-01-07  291.320007  291.690002  289.279999  291.350006  277.533630   \n",
       "2020-01-08  290.989990  295.480011  290.500000  294.690002  280.715210   \n",
       "...                ...         ...         ...         ...         ...   \n",
       "2022-10-25  493.320007  500.190002  490.500000  499.059998  498.160706   \n",
       "2022-10-26  498.000000  507.420013  495.690002  499.450012  498.550018   \n",
       "2022-10-27  499.809998  503.010010  494.140015  496.540009  496.540009   \n",
       "2022-10-28  497.299988  512.820007  495.970001  510.869995  510.869995   \n",
       "2022-10-31  509.640015  509.640015  500.500000  501.500000  501.500000   \n",
       "\n",
       "             Volume  \n",
       "Date                 \n",
       "2020-01-02  2103600  \n",
       "2020-01-03  1926000  \n",
       "2020-01-06  2655100  \n",
       "2020-01-07  1963400  \n",
       "2020-01-08  2492800  \n",
       "...             ...  \n",
       "2022-10-25  2130900  \n",
       "2022-10-26  2088700  \n",
       "2022-10-27  1576600  \n",
       "2022-10-28  2369300  \n",
       "2022-10-31  2192200  \n",
       "\n",
       "[714 rows x 6 columns]"
      ]
     },
     "execution_count": 8,
     "metadata": {},
     "output_type": "execute_result"
    }
   ],
   "source": [
    "df_costco"
   ]
  },
  {
   "cell_type": "markdown",
   "id": "9850d577",
   "metadata": {},
   "source": [
    "Obtain some basic descriptive statistics"
   ]
  },
  {
   "cell_type": "code",
   "execution_count": 9,
   "id": "8dbcdc72",
   "metadata": {},
   "outputs": [
    {
     "data": {
      "text/html": [
       "<div>\n",
       "<style scoped>\n",
       "    .dataframe tbody tr th:only-of-type {\n",
       "        vertical-align: middle;\n",
       "    }\n",
       "\n",
       "    .dataframe tbody tr th {\n",
       "        vertical-align: top;\n",
       "    }\n",
       "\n",
       "    .dataframe thead th {\n",
       "        text-align: right;\n",
       "    }\n",
       "</style>\n",
       "<table border=\"1\" class=\"dataframe\">\n",
       "  <thead>\n",
       "    <tr style=\"text-align: right;\">\n",
       "      <th></th>\n",
       "      <th>Open</th>\n",
       "      <th>High</th>\n",
       "      <th>Low</th>\n",
       "      <th>Close</th>\n",
       "      <th>Adj Close</th>\n",
       "      <th>Volume</th>\n",
       "    </tr>\n",
       "  </thead>\n",
       "  <tbody>\n",
       "    <tr>\n",
       "      <th>count</th>\n",
       "      <td>714.000000</td>\n",
       "      <td>714.000000</td>\n",
       "      <td>714.000000</td>\n",
       "      <td>714.000000</td>\n",
       "      <td>714.000000</td>\n",
       "      <td>7.140000e+02</td>\n",
       "    </tr>\n",
       "    <tr>\n",
       "      <th>mean</th>\n",
       "      <td>415.339944</td>\n",
       "      <td>419.694369</td>\n",
       "      <td>411.168502</td>\n",
       "      <td>415.586219</td>\n",
       "      <td>408.905486</td>\n",
       "      <td>2.507109e+06</td>\n",
       "    </tr>\n",
       "    <tr>\n",
       "      <th>std</th>\n",
       "      <td>88.367372</td>\n",
       "      <td>89.546005</td>\n",
       "      <td>87.095874</td>\n",
       "      <td>88.371574</td>\n",
       "      <td>92.404797</td>\n",
       "      <td>1.160210e+06</td>\n",
       "    </tr>\n",
       "    <tr>\n",
       "      <th>min</th>\n",
       "      <td>280.440002</td>\n",
       "      <td>287.329987</td>\n",
       "      <td>271.279999</td>\n",
       "      <td>279.850006</td>\n",
       "      <td>267.140991</td>\n",
       "      <td>9.725000e+05</td>\n",
       "    </tr>\n",
       "    <tr>\n",
       "      <th>25%</th>\n",
       "      <td>340.702507</td>\n",
       "      <td>342.565010</td>\n",
       "      <td>336.939987</td>\n",
       "      <td>339.962494</td>\n",
       "      <td>326.893501</td>\n",
       "      <td>1.770725e+06</td>\n",
       "    </tr>\n",
       "    <tr>\n",
       "      <th>50%</th>\n",
       "      <td>384.895004</td>\n",
       "      <td>387.349991</td>\n",
       "      <td>381.650009</td>\n",
       "      <td>384.370010</td>\n",
       "      <td>379.792557</td>\n",
       "      <td>2.170750e+06</td>\n",
       "    </tr>\n",
       "    <tr>\n",
       "      <th>75%</th>\n",
       "      <td>494.382492</td>\n",
       "      <td>500.112503</td>\n",
       "      <td>489.505005</td>\n",
       "      <td>495.182510</td>\n",
       "      <td>493.102180</td>\n",
       "      <td>2.839575e+06</td>\n",
       "    </tr>\n",
       "    <tr>\n",
       "      <th>max</th>\n",
       "      <td>607.280029</td>\n",
       "      <td>612.270020</td>\n",
       "      <td>597.729980</td>\n",
       "      <td>608.049988</td>\n",
       "      <td>604.924255</td>\n",
       "      <td>9.511600e+06</td>\n",
       "    </tr>\n",
       "  </tbody>\n",
       "</table>\n",
       "</div>"
      ],
      "text/plain": [
       "             Open        High         Low       Close   Adj Close  \\\n",
       "count  714.000000  714.000000  714.000000  714.000000  714.000000   \n",
       "mean   415.339944  419.694369  411.168502  415.586219  408.905486   \n",
       "std     88.367372   89.546005   87.095874   88.371574   92.404797   \n",
       "min    280.440002  287.329987  271.279999  279.850006  267.140991   \n",
       "25%    340.702507  342.565010  336.939987  339.962494  326.893501   \n",
       "50%    384.895004  387.349991  381.650009  384.370010  379.792557   \n",
       "75%    494.382492  500.112503  489.505005  495.182510  493.102180   \n",
       "max    607.280029  612.270020  597.729980  608.049988  604.924255   \n",
       "\n",
       "             Volume  \n",
       "count  7.140000e+02  \n",
       "mean   2.507109e+06  \n",
       "std    1.160210e+06  \n",
       "min    9.725000e+05  \n",
       "25%    1.770725e+06  \n",
       "50%    2.170750e+06  \n",
       "75%    2.839575e+06  \n",
       "max    9.511600e+06  "
      ]
     },
     "execution_count": 9,
     "metadata": {},
     "output_type": "execute_result"
    }
   ],
   "source": [
    "df_costco.describe()"
   ]
  },
  {
   "cell_type": "markdown",
   "id": "f32b4800",
   "metadata": {},
   "source": [
    "Perform regression analysis\n",
    "\n",
    "Explanatory variables: Walmart rate of return, S&P500 return, US Dollar Index(ICE: DX) <br/>\n",
    "Response variables: Costco rate of return"
   ]
  },
  {
   "cell_type": "code",
   "execution_count": 10,
   "id": "639d0634",
   "metadata": {},
   "outputs": [
    {
     "name": "stdout",
     "output_type": "stream",
     "text": [
      "[*********************100%***********************]  4 of 4 completed\n"
     ]
    }
   ],
   "source": [
    "# Retrieve the adj-close price for these 4 indices\n",
    "df_dataset = yf.download(\"COST WMT ^GSPC DX-Y.NYB\", start=startDate, end=endDate)['Adj Close']"
   ]
  },
  {
   "cell_type": "markdown",
   "id": "98d42e39",
   "metadata": {},
   "source": [
    "Examine the first and last 5 rows and see if it corresponds to actual data"
   ]
  },
  {
   "cell_type": "code",
   "execution_count": 11,
   "id": "ab2c0c2e",
   "metadata": {},
   "outputs": [
    {
     "data": {
      "text/html": [
       "<div>\n",
       "<style scoped>\n",
       "    .dataframe tbody tr th:only-of-type {\n",
       "        vertical-align: middle;\n",
       "    }\n",
       "\n",
       "    .dataframe tbody tr th {\n",
       "        vertical-align: top;\n",
       "    }\n",
       "\n",
       "    .dataframe thead th {\n",
       "        text-align: right;\n",
       "    }\n",
       "</style>\n",
       "<table border=\"1\" class=\"dataframe\">\n",
       "  <thead>\n",
       "    <tr style=\"text-align: right;\">\n",
       "      <th></th>\n",
       "      <th>COST</th>\n",
       "      <th>DX-Y.NYB</th>\n",
       "      <th>WMT</th>\n",
       "      <th>^GSPC</th>\n",
       "    </tr>\n",
       "    <tr>\n",
       "      <th>Date</th>\n",
       "      <th></th>\n",
       "      <th></th>\n",
       "      <th></th>\n",
       "      <th></th>\n",
       "    </tr>\n",
       "  </thead>\n",
       "  <tbody>\n",
       "    <tr>\n",
       "      <th>2020-01-02</th>\n",
       "      <td>277.666962</td>\n",
       "      <td>96.849998</td>\n",
       "      <td>113.801071</td>\n",
       "      <td>3257.850098</td>\n",
       "    </tr>\n",
       "    <tr>\n",
       "      <th>2020-01-03</th>\n",
       "      <td>277.895599</td>\n",
       "      <td>96.839996</td>\n",
       "      <td>112.796448</td>\n",
       "      <td>3234.850098</td>\n",
       "    </tr>\n",
       "    <tr>\n",
       "      <th>2020-01-06</th>\n",
       "      <td>277.971832</td>\n",
       "      <td>96.669998</td>\n",
       "      <td>112.566818</td>\n",
       "      <td>3246.280029</td>\n",
       "    </tr>\n",
       "    <tr>\n",
       "      <th>2020-01-07</th>\n",
       "      <td>277.533600</td>\n",
       "      <td>96.980003</td>\n",
       "      <td>111.523895</td>\n",
       "      <td>3237.179932</td>\n",
       "    </tr>\n",
       "    <tr>\n",
       "      <th>2020-01-08</th>\n",
       "      <td>280.715302</td>\n",
       "      <td>97.300003</td>\n",
       "      <td>111.141197</td>\n",
       "      <td>3253.050049</td>\n",
       "    </tr>\n",
       "    <tr>\n",
       "      <th>...</th>\n",
       "      <td>...</td>\n",
       "      <td>...</td>\n",
       "      <td>...</td>\n",
       "      <td>...</td>\n",
       "    </tr>\n",
       "    <tr>\n",
       "      <th>2022-10-25</th>\n",
       "      <td>498.160706</td>\n",
       "      <td>110.949997</td>\n",
       "      <td>140.070007</td>\n",
       "      <td>3859.110107</td>\n",
       "    </tr>\n",
       "    <tr>\n",
       "      <th>2022-10-26</th>\n",
       "      <td>498.550018</td>\n",
       "      <td>109.699997</td>\n",
       "      <td>141.139999</td>\n",
       "      <td>3830.600098</td>\n",
       "    </tr>\n",
       "    <tr>\n",
       "      <th>2022-10-27</th>\n",
       "      <td>496.540009</td>\n",
       "      <td>110.589996</td>\n",
       "      <td>140.729996</td>\n",
       "      <td>3807.300049</td>\n",
       "    </tr>\n",
       "    <tr>\n",
       "      <th>2022-10-28</th>\n",
       "      <td>510.869995</td>\n",
       "      <td>110.669998</td>\n",
       "      <td>142.509995</td>\n",
       "      <td>3901.060059</td>\n",
       "    </tr>\n",
       "    <tr>\n",
       "      <th>2022-10-31</th>\n",
       "      <td>501.500000</td>\n",
       "      <td>111.529999</td>\n",
       "      <td>142.330002</td>\n",
       "      <td>3871.979980</td>\n",
       "    </tr>\n",
       "  </tbody>\n",
       "</table>\n",
       "<p>717 rows × 4 columns</p>\n",
       "</div>"
      ],
      "text/plain": [
       "                  COST    DX-Y.NYB         WMT        ^GSPC\n",
       "Date                                                       \n",
       "2020-01-02  277.666962   96.849998  113.801071  3257.850098\n",
       "2020-01-03  277.895599   96.839996  112.796448  3234.850098\n",
       "2020-01-06  277.971832   96.669998  112.566818  3246.280029\n",
       "2020-01-07  277.533600   96.980003  111.523895  3237.179932\n",
       "2020-01-08  280.715302   97.300003  111.141197  3253.050049\n",
       "...                ...         ...         ...          ...\n",
       "2022-10-25  498.160706  110.949997  140.070007  3859.110107\n",
       "2022-10-26  498.550018  109.699997  141.139999  3830.600098\n",
       "2022-10-27  496.540009  110.589996  140.729996  3807.300049\n",
       "2022-10-28  510.869995  110.669998  142.509995  3901.060059\n",
       "2022-10-31  501.500000  111.529999  142.330002  3871.979980\n",
       "\n",
       "[717 rows x 4 columns]"
      ]
     },
     "execution_count": 11,
     "metadata": {},
     "output_type": "execute_result"
    }
   ],
   "source": [
    "df_dataset"
   ]
  },
  {
   "cell_type": "markdown",
   "id": "46472593",
   "metadata": {},
   "source": [
    "Conduct a correlation analysis"
   ]
  },
  {
   "cell_type": "code",
   "execution_count": 12,
   "id": "0decce87",
   "metadata": {},
   "outputs": [
    {
     "data": {
      "text/html": [
       "<div>\n",
       "<style scoped>\n",
       "    .dataframe tbody tr th:only-of-type {\n",
       "        vertical-align: middle;\n",
       "    }\n",
       "\n",
       "    .dataframe tbody tr th {\n",
       "        vertical-align: top;\n",
       "    }\n",
       "\n",
       "    .dataframe thead th {\n",
       "        text-align: right;\n",
       "    }\n",
       "</style>\n",
       "<table border=\"1\" class=\"dataframe\">\n",
       "  <thead>\n",
       "    <tr style=\"text-align: right;\">\n",
       "      <th></th>\n",
       "      <th>COST</th>\n",
       "      <th>DX-Y.NYB</th>\n",
       "      <th>WMT</th>\n",
       "      <th>^GSPC</th>\n",
       "    </tr>\n",
       "  </thead>\n",
       "  <tbody>\n",
       "    <tr>\n",
       "      <th>COST</th>\n",
       "      <td>1.000000</td>\n",
       "      <td>0.403460</td>\n",
       "      <td>0.610435</td>\n",
       "      <td>0.798184</td>\n",
       "    </tr>\n",
       "    <tr>\n",
       "      <th>DX-Y.NYB</th>\n",
       "      <td>0.403460</td>\n",
       "      <td>1.000000</td>\n",
       "      <td>-0.245682</td>\n",
       "      <td>-0.127848</td>\n",
       "    </tr>\n",
       "    <tr>\n",
       "      <th>WMT</th>\n",
       "      <td>0.610435</td>\n",
       "      <td>-0.245682</td>\n",
       "      <td>1.000000</td>\n",
       "      <td>0.726061</td>\n",
       "    </tr>\n",
       "    <tr>\n",
       "      <th>^GSPC</th>\n",
       "      <td>0.798184</td>\n",
       "      <td>-0.127848</td>\n",
       "      <td>0.726061</td>\n",
       "      <td>1.000000</td>\n",
       "    </tr>\n",
       "  </tbody>\n",
       "</table>\n",
       "</div>"
      ],
      "text/plain": [
       "              COST  DX-Y.NYB       WMT     ^GSPC\n",
       "COST      1.000000  0.403460  0.610435  0.798184\n",
       "DX-Y.NYB  0.403460  1.000000 -0.245682 -0.127848\n",
       "WMT       0.610435 -0.245682  1.000000  0.726061\n",
       "^GSPC     0.798184 -0.127848  0.726061  1.000000"
      ]
     },
     "execution_count": 12,
     "metadata": {},
     "output_type": "execute_result"
    }
   ],
   "source": [
    "df_dataset.corr()"
   ]
  },
  {
   "cell_type": "markdown",
   "id": "af06c32b",
   "metadata": {},
   "source": [
    "Calculate the daily rate of return for each index, and store these data into a new dataframe"
   ]
  },
  {
   "cell_type": "code",
   "execution_count": 13,
   "id": "0eb72fca",
   "metadata": {},
   "outputs": [
    {
     "data": {
      "text/html": [
       "<div>\n",
       "<style scoped>\n",
       "    .dataframe tbody tr th:only-of-type {\n",
       "        vertical-align: middle;\n",
       "    }\n",
       "\n",
       "    .dataframe tbody tr th {\n",
       "        vertical-align: top;\n",
       "    }\n",
       "\n",
       "    .dataframe thead th {\n",
       "        text-align: right;\n",
       "    }\n",
       "</style>\n",
       "<table border=\"1\" class=\"dataframe\">\n",
       "  <thead>\n",
       "    <tr style=\"text-align: right;\">\n",
       "      <th></th>\n",
       "      <th>COST</th>\n",
       "      <th>USDIndex</th>\n",
       "      <th>WMT</th>\n",
       "      <th>SP500</th>\n",
       "    </tr>\n",
       "    <tr>\n",
       "      <th>Date</th>\n",
       "      <th></th>\n",
       "      <th></th>\n",
       "      <th></th>\n",
       "      <th></th>\n",
       "    </tr>\n",
       "  </thead>\n",
       "  <tbody>\n",
       "    <tr>\n",
       "      <th>2020-01-02</th>\n",
       "      <td>NaN</td>\n",
       "      <td>NaN</td>\n",
       "      <td>NaN</td>\n",
       "      <td>NaN</td>\n",
       "    </tr>\n",
       "    <tr>\n",
       "      <th>2020-01-03</th>\n",
       "      <td>0.000823</td>\n",
       "      <td>-0.000103</td>\n",
       "      <td>-0.008867</td>\n",
       "      <td>-0.007085</td>\n",
       "    </tr>\n",
       "    <tr>\n",
       "      <th>2020-01-06</th>\n",
       "      <td>0.000274</td>\n",
       "      <td>-0.001757</td>\n",
       "      <td>-0.002038</td>\n",
       "      <td>0.003527</td>\n",
       "    </tr>\n",
       "    <tr>\n",
       "      <th>2020-01-07</th>\n",
       "      <td>-0.001578</td>\n",
       "      <td>0.003202</td>\n",
       "      <td>-0.009308</td>\n",
       "      <td>-0.002807</td>\n",
       "    </tr>\n",
       "    <tr>\n",
       "      <th>2020-01-08</th>\n",
       "      <td>0.011399</td>\n",
       "      <td>0.003294</td>\n",
       "      <td>-0.003437</td>\n",
       "      <td>0.004890</td>\n",
       "    </tr>\n",
       "    <tr>\n",
       "      <th>...</th>\n",
       "      <td>...</td>\n",
       "      <td>...</td>\n",
       "      <td>...</td>\n",
       "      <td>...</td>\n",
       "    </tr>\n",
       "    <tr>\n",
       "      <th>2022-10-25</th>\n",
       "      <td>0.004197</td>\n",
       "      <td>-0.009330</td>\n",
       "      <td>0.004723</td>\n",
       "      <td>0.016136</td>\n",
       "    </tr>\n",
       "    <tr>\n",
       "      <th>2022-10-26</th>\n",
       "      <td>0.000781</td>\n",
       "      <td>-0.011330</td>\n",
       "      <td>0.007610</td>\n",
       "      <td>-0.007415</td>\n",
       "    </tr>\n",
       "    <tr>\n",
       "      <th>2022-10-27</th>\n",
       "      <td>-0.004040</td>\n",
       "      <td>0.008080</td>\n",
       "      <td>-0.002909</td>\n",
       "      <td>-0.006101</td>\n",
       "    </tr>\n",
       "    <tr>\n",
       "      <th>2022-10-28</th>\n",
       "      <td>0.028451</td>\n",
       "      <td>0.000723</td>\n",
       "      <td>0.012569</td>\n",
       "      <td>0.024328</td>\n",
       "    </tr>\n",
       "    <tr>\n",
       "      <th>2022-10-31</th>\n",
       "      <td>-0.018512</td>\n",
       "      <td>0.007741</td>\n",
       "      <td>-0.001264</td>\n",
       "      <td>-0.007482</td>\n",
       "    </tr>\n",
       "  </tbody>\n",
       "</table>\n",
       "<p>717 rows × 4 columns</p>\n",
       "</div>"
      ],
      "text/plain": [
       "                COST  USDIndex       WMT     SP500\n",
       "Date                                              \n",
       "2020-01-02       NaN       NaN       NaN       NaN\n",
       "2020-01-03  0.000823 -0.000103 -0.008867 -0.007085\n",
       "2020-01-06  0.000274 -0.001757 -0.002038  0.003527\n",
       "2020-01-07 -0.001578  0.003202 -0.009308 -0.002807\n",
       "2020-01-08  0.011399  0.003294 -0.003437  0.004890\n",
       "...              ...       ...       ...       ...\n",
       "2022-10-25  0.004197 -0.009330  0.004723  0.016136\n",
       "2022-10-26  0.000781 -0.011330  0.007610 -0.007415\n",
       "2022-10-27 -0.004040  0.008080 -0.002909 -0.006101\n",
       "2022-10-28  0.028451  0.000723  0.012569  0.024328\n",
       "2022-10-31 -0.018512  0.007741 -0.001264 -0.007482\n",
       "\n",
       "[717 rows x 4 columns]"
      ]
     },
     "execution_count": 13,
     "metadata": {},
     "output_type": "execute_result"
    }
   ],
   "source": [
    "df_daily_returns = np.log(df_dataset/df_dataset.shift(1))\n",
    "df_daily_returns = df_daily_returns.rename({'DX-Y.NYB': 'USDIndex', '^GSPC': 'SP500'}, axis=1)\n",
    "df_daily_returns"
   ]
  },
  {
   "cell_type": "markdown",
   "id": "64d9d0fb",
   "metadata": {},
   "source": [
    "Make a scatterplot with:\n",
    "- explanatory variable: Walmart rate of return\n",
    "- response variable: Costco rate of return "
   ]
  },
  {
   "cell_type": "code",
   "execution_count": 14,
   "id": "deff7f8a",
   "metadata": {},
   "outputs": [
    {
     "data": {
      "image/png": "[encoded data removed]",
      "text/plain": [
       "<Figure size 640x480 with 1 Axes>"
      ]
     },
     "metadata": {},
     "output_type": "display_data"
    }
   ],
   "source": [
    "plt.scatter(df_daily_returns['WMT'],df_daily_returns['COST'],marker='+')\n",
    "plt.xlabel(\"Walmart daily return\")\n",
    "plt.ylabel(\"Costco daily return\")\n",
    "plt.show()"
   ]
  },
  {
   "cell_type": "markdown",
   "id": "60613e62",
   "metadata": {},
   "source": [
    "There seems to exist a positive correlation between Walmart daily return and Costco daily return.\n",
    "\n",
    "### Perform a univariate regression\n",
    "\n",
    "Perform a linear regression analysis and see if it gives any predictive power:"
   ]
  },
  {
   "cell_type": "code",
   "execution_count": 15,
   "id": "7f3a7886",
   "metadata": {},
   "outputs": [
    {
     "name": "stdout",
     "output_type": "stream",
     "text": [
      "                            OLS Regression Results                            \n",
      "==============================================================================\n",
      "Dep. Variable:                   COST   R-squared:                       0.431\n",
      "Model:                            OLS   Adj. R-squared:                  0.430\n",
      "Method:                 Least Squares   F-statistic:                     536.2\n",
      "Date:                Sun, 20 Nov 2022   Prob (F-statistic):           9.53e-89\n",
      "Time:                        13:47:14   Log-Likelihood:                 2086.1\n",
      "No. Observations:                 710   AIC:                            -4168.\n",
      "Df Residuals:                     708   BIC:                            -4159.\n",
      "Df Model:                           1                                         \n",
      "Covariance Type:            nonrobust                                         \n",
      "==============================================================================\n",
      "                 coef    std err          t      P>|t|      [0.025      0.975]\n",
      "------------------------------------------------------------------------------\n",
      "Intercept      0.0006      0.000      1.282      0.200      -0.000       0.002\n",
      "WMT            0.6851      0.030     23.156      0.000       0.627       0.743\n",
      "==============================================================================\n",
      "Omnibus:                       92.994   Durbin-Watson:                   2.231\n",
      "Prob(Omnibus):                  0.000   Jarque-Bera (JB):              847.875\n",
      "Skew:                          -0.154   Prob(JB):                    7.70e-185\n",
      "Kurtosis:                       8.345   Cond. No.                         61.4\n",
      "==============================================================================\n",
      "\n",
      "Notes:\n",
      "[1] Standard Errors assume that the covariance matrix of the errors is correctly specified.\n"
     ]
    }
   ],
   "source": [
    "#import the statsmodel and sklearn library\n",
    "import statsmodels.formula.api as smf\n",
    "from sklearn.linear_model import LinearRegression\n",
    "\n",
    "# perform a OLS regression\n",
    "slr_sm_model = smf.ols('COST ~ WMT', data=df_daily_returns)\n",
    "\n",
    "slr_sm_model_ko = slr_sm_model.fit()\n",
    "\n",
    "print(slr_sm_model_ko.summary()) "
   ]
  },
  {
   "cell_type": "markdown",
   "id": "727a13ec",
   "metadata": {},
   "source": [
    "The regression model is shown as follows:\n",
    "\n",
    "$\n",
    "        \\hat{Y_i} = 0.000617 + 0.685057 * X_i\n",
    "$\n",
    "\n",
    "Intepretation:\n",
    "- For a unit increase in Walmart ROI, the Costco ROI is expected to increase by 0.685057\n",
    "- The R^2 coefficient of determination is 0.431, meaning that this model explains 43.1% of variation of the dependent variable..\n",
    "- The p-value is 0 meaning that this variable is statistically significant"
   ]
  },
  {
   "cell_type": "code",
   "execution_count": 11,
   "id": "076a6792",
   "metadata": {},
   "outputs": [
    {
     "data": {
      "text/plain": [
       "Intercept    0.000617\n",
       "WMT          0.685057\n",
       "dtype: float64"
      ]
     },
     "execution_count": 11,
     "metadata": {},
     "output_type": "execute_result"
    }
   ],
   "source": [
    "slr_sm_model_ko.params"
   ]
  },
  {
   "cell_type": "markdown",
   "id": "27cf5078",
   "metadata": {},
   "source": [
    "### Perform a multivariate regression \n",
    "\n",
    "The model is shown as follow:\n",
    "\n",
    "$\n",
    "    \\hat{Costco.Return} = \\hat{\\beta_0} + \\hat{\\beta_1}*Walmart.Return + \\hat{\\beta_2} *USD.Index + \\hat{\\beta_3}*SP500.Return\n",
    "$"
   ]
  },
  {
   "cell_type": "code",
   "execution_count": 12,
   "id": "aef91c4b",
   "metadata": {},
   "outputs": [
    {
     "name": "stdout",
     "output_type": "stream",
     "text": [
      "                            OLS Regression Results                            \n",
      "==============================================================================\n",
      "Dep. Variable:                   COST   R-squared:                       0.591\n",
      "Model:                            OLS   Adj. R-squared:                  0.589\n",
      "Method:                 Least Squares   F-statistic:                     339.4\n",
      "Date:                Sat, 19 Nov 2022   Prob (F-statistic):          2.12e-136\n",
      "Time:                        11:05:56   Log-Likelihood:                 2203.0\n",
      "No. Observations:                 710   AIC:                            -4398.\n",
      "Df Residuals:                     706   BIC:                            -4380.\n",
      "Df Model:                           3                                         \n",
      "Covariance Type:            nonrobust                                         \n",
      "==============================================================================\n",
      "                 coef    std err          t      P>|t|      [0.025      0.975]\n",
      "------------------------------------------------------------------------------\n",
      "Intercept      0.0006      0.000      1.436      0.151      -0.000       0.001\n",
      "WMT            0.4609      0.029     16.078      0.000       0.405       0.517\n",
      "USDIndex      -0.0902      0.094     -0.959      0.338      -0.275       0.094\n",
      "SP500          0.4701      0.029     16.019      0.000       0.413       0.528\n",
      "==============================================================================\n",
      "Omnibus:                      131.699   Durbin-Watson:                   2.130\n",
      "Prob(Omnibus):                  0.000   Jarque-Bera (JB):             1442.429\n",
      "Skew:                          -0.461   Prob(JB):                         0.00\n",
      "Kurtosis:                       9.922   Cond. No.                         230.\n",
      "==============================================================================\n",
      "\n",
      "Notes:\n",
      "[1] Standard Errors assume that the covariance matrix of the errors is correctly specified.\n",
      "Intercept    0.000588\n",
      "WMT          0.460883\n",
      "USDIndex    -0.090166\n",
      "SP500        0.470134\n",
      "dtype: float64\n"
     ]
    }
   ],
   "source": [
    "# pass in dataframe columns as parameters:\n",
    "mulvar_reg_model = smf.ols(formula='COST ~ WMT + USDIndex + SP500', data=df_daily_returns)\n",
    "\n",
    "mulvar_reg_model_fit = mulvar_reg_model.fit()\n",
    "print(mulvar_reg_model_fit.summary())\n",
    "# extract the key coefficients\n",
    "print(mulvar_reg_model_fit.params)"
   ]
  },
  {
   "cell_type": "markdown",
   "id": "100e33bc",
   "metadata": {},
   "source": [
    "Observations:\n",
    "- The USDIndex is insignificant in this model\n",
    "- The R^2 value goes up from 0.431 to 0.589, meaning that this multivariate model is a better fit compared to the previous univariate model."
   ]
  },
  {
   "cell_type": "markdown",
   "id": "4aac11c8",
   "metadata": {},
   "source": [
    "## Machine Learning forecasting"
   ]
  },
  {
   "cell_type": "markdown",
   "id": "0024cf9b",
   "metadata": {},
   "source": [
    "Use indicator: EMA10(Exponential Moving Average 10 days) for machine learning forecasting. The smoothing value by default is 2.\n",
    "\n",
    "Prepare the data"
   ]
  },
  {
   "cell_type": "code",
   "execution_count": 16,
   "id": "5b198d06",
   "metadata": {},
   "outputs": [
    {
     "data": {
      "text/html": [
       "<div>\n",
       "<style scoped>\n",
       "    .dataframe tbody tr th:only-of-type {\n",
       "        vertical-align: middle;\n",
       "    }\n",
       "\n",
       "    .dataframe tbody tr th {\n",
       "        vertical-align: top;\n",
       "    }\n",
       "\n",
       "    .dataframe thead th {\n",
       "        text-align: right;\n",
       "    }\n",
       "</style>\n",
       "<table border=\"1\" class=\"dataframe\">\n",
       "  <thead>\n",
       "    <tr style=\"text-align: right;\">\n",
       "      <th></th>\n",
       "      <th>COST</th>\n",
       "      <th>Exponential MA</th>\n",
       "    </tr>\n",
       "    <tr>\n",
       "      <th>Date</th>\n",
       "      <th></th>\n",
       "      <th></th>\n",
       "    </tr>\n",
       "  </thead>\n",
       "  <tbody>\n",
       "    <tr>\n",
       "      <th>2020-01-15</th>\n",
       "      <td>286.554565</td>\n",
       "      <td>281.788797</td>\n",
       "    </tr>\n",
       "    <tr>\n",
       "      <th>2020-01-16</th>\n",
       "      <td>288.659729</td>\n",
       "      <td>283.038057</td>\n",
       "    </tr>\n",
       "    <tr>\n",
       "      <th>2020-01-17</th>\n",
       "      <td>290.231445</td>\n",
       "      <td>284.345946</td>\n",
       "    </tr>\n",
       "    <tr>\n",
       "      <th>2020-01-21</th>\n",
       "      <td>298.404602</td>\n",
       "      <td>286.902065</td>\n",
       "    </tr>\n",
       "    <tr>\n",
       "      <th>2020-01-22</th>\n",
       "      <td>297.099609</td>\n",
       "      <td>288.756164</td>\n",
       "    </tr>\n",
       "  </tbody>\n",
       "</table>\n",
       "</div>"
      ],
      "text/plain": [
       "                  COST  Exponential MA\n",
       "Date                                  \n",
       "2020-01-15  286.554565      281.788797\n",
       "2020-01-16  288.659729      283.038057\n",
       "2020-01-17  290.231445      284.345946\n",
       "2020-01-21  298.404602      286.902065\n",
       "2020-01-22  297.099609      288.756164"
      ]
     },
     "execution_count": 16,
     "metadata": {},
     "output_type": "execute_result"
    }
   ],
   "source": [
    "# import the pandas_ta lib: a pandas library for technical analysis\n",
    "import pandas_ta as ta\n",
    "\n",
    "df_costco_ema = pd.DataFrame()\n",
    "\n",
    "df_costco_ema['COST'] = df_dataset['COST']\n",
    "df_costco_ema['Exponential MA'] = ta.ema(df_dataset['COST'], length=10)\n",
    "\n",
    "#drop the first 9 rows where the EMA column shows NaN:\n",
    "df_costco_ema = df_costco_ema.iloc[9:,:]\n",
    "df_costco_ema.head(5)"
   ]
  },
  {
   "cell_type": "markdown",
   "id": "c22cc52f",
   "metadata": {},
   "source": [
    "Clean the dataset, remove any rows that contains NaN"
   ]
  },
  {
   "cell_type": "code",
   "execution_count": 17,
   "id": "d4f91aa7",
   "metadata": {},
   "outputs": [],
   "source": [
    "df_costco_ema[df_costco_ema.isna().any(axis=1)]\n",
    "df_costco_ema = df_costco_ema[df_costco_ema['Exponential MA'].notna()]"
   ]
  },
  {
   "cell_type": "code",
   "execution_count": 18,
   "id": "7161c706",
   "metadata": {},
   "outputs": [
    {
     "data": {
      "image/png": "[encoded data removed]",
      "text/plain": [
       "<Figure size 1500x800 with 1 Axes>"
      ]
     },
     "metadata": {},
     "output_type": "display_data"
    }
   ],
   "source": [
    "df_costco_ema.plot(figsize=(15,8),title=\"Costco price with EMA(10)\")\n",
    "plt.show()"
   ]
  },
  {
   "cell_type": "markdown",
   "id": "468ed911",
   "metadata": {},
   "source": [
    "Split the data into training test & testing set\n",
    "<br>\n",
    "<br>\n",
    "The ratio of training:testing would be 8:2, meaning we use 80% of the data to train the model, and the rest 20% to test the model"
   ]
  },
  {
   "cell_type": "code",
   "execution_count": 21,
   "id": "62cfab10",
   "metadata": {},
   "outputs": [],
   "source": [
    "# prepare the training-testing data\n",
    "train,test = train_test_split(df_costco_ema, test_size=0.2)\n",
    "\n",
    "# data cleaning: there exists some NaN values, so fill the NaN with the previous non-NaN value\n",
    "train.isnull().sum()\n",
    "test.isnull().sum()\n",
    "train = train.fillna(method='ffill')\n",
    "test = test.fillna(method='ffill')"
   ]
  },
  {
   "cell_type": "markdown",
   "id": "d2d34759",
   "metadata": {},
   "source": [
    "Plot a scatterplot"
   ]
  },
  {
   "cell_type": "code",
   "execution_count": 22,
   "id": "bff091c1",
   "metadata": {},
   "outputs": [
    {
     "data": {
      "image/png": "[encoded data removed]",
      "text/plain": [
       "<Figure size 640x480 with 1 Axes>"
      ]
     },
     "metadata": {},
     "output_type": "display_data"
    }
   ],
   "source": [
    "plt.scatter(train[\"Exponential MA\"],train[\"COST\"], marker=\"+\")\n",
    "plt.show()"
   ]
  },
  {
   "cell_type": "markdown",
   "id": "fd8a4555",
   "metadata": {},
   "source": [
    "Try to fit a linear regression model on the testing set "
   ]
  },
  {
   "cell_type": "code",
   "execution_count": 23,
   "id": "5686b7c3",
   "metadata": {},
   "outputs": [
    {
     "name": "stdout",
     "output_type": "stream",
     "text": [
      "3.117770326699258 [0.99399718] 0.9746926183305339\n"
     ]
    }
   ],
   "source": [
    "model = LinearRegression()\n",
    "model.fit(train[[\"Exponential MA\"]], train[\"COST\"])\n",
    "print(model.intercept_, model.coef_, model.score(train[[\"Exponential MA\"]], train[\"COST\"]))"
   ]
  },
  {
   "cell_type": "markdown",
   "id": "5d61457c",
   "metadata": {},
   "source": [
    "The regression model is calculated as follow:\n",
    "<br>\n",
    "<br>\n",
    "$\n",
    "    \\hat{Costo.Price} = 3.11777 + 0.99399 * EMA(10)\n",
    "$\n",
    "<br>\n",
    "<br>\n",
    "<br>\n",
    "Test the model"
   ]
  },
  {
   "cell_type": "code",
   "execution_count": 113,
   "id": "36741281",
   "metadata": {},
   "outputs": [
    {
     "data": {
      "text/plain": [
       "142"
      ]
     },
     "execution_count": 113,
     "metadata": {},
     "output_type": "execute_result"
    }
   ],
   "source": [
    "COST_pred = model.predict(test[[\"Exponential MA\"]])\n",
    "len(COST_pred)"
   ]
  },
  {
   "cell_type": "code",
   "execution_count": 128,
   "id": "0af9519b",
   "metadata": {},
   "outputs": [
    {
     "data": {
      "image/png": "[encoded data removed]",
      "text/plain": [
       "<Figure size 640x480 with 1 Axes>"
      ]
     },
     "metadata": {},
     "output_type": "display_data"
    }
   ],
   "source": [
    "plt.scatter(test[\"Exponential MA\"], test[\"COST\"], color = 'orange', s=5)\n",
    "plt.plot(test[\"Exponential MA\"], model.predict(test[[\"Exponential MA\"]]), color = 'black',linewidth = 1)\n",
    "plt.title('Predicted price vs Real price')\n",
    "plt.xlabel('EMA(10) value')\n",
    "plt.ylabel('Costco price')\n",
    "plt.legend([\"Actual values\",\"Predicted values\"])\n",
    "plt.grid(color = 'green', linestyle = '--', linewidth = 0.25)\n",
    "plt.show()"
   ]
  },
  {
   "cell_type": "markdown",
   "id": "09c7f652",
   "metadata": {},
   "source": [
    "Plot the residuals as well"
   ]
  },
  {
   "cell_type": "code",
   "execution_count": 136,
   "id": "fe3f618b",
   "metadata": {},
   "outputs": [
    {
     "data": {
      "text/plain": [
       "<matplotlib.lines.Line2D at 0x14cc548df70>"
      ]
     },
     "execution_count": 136,
     "metadata": {},
     "output_type": "execute_result"
    },
    {
     "data": {
      "image/png": "[encoded data removed]",
      "text/plain": [
       "<Figure size 640x480 with 1 Axes>"
      ]
     },
     "metadata": {},
     "output_type": "display_data"
    }
   ],
   "source": [
    "plt.scatter(test[\"Exponential MA\"],test[\"COST\"]-model.predict(test[[\"Exponential MA\"]]), color=\"orange\", marker=\"+\")\n",
    "plt.axhline(y=0, color='r', linestyle='--')"
   ]
  }
 ],
 "metadata": {
  "kernelspec": {
   "display_name": "Python 3 (ipykernel)",
   "language": "python",
   "name": "python3"
  },
  "language_info": {
   "codemirror_mode": {
    "name": "ipython",
    "version": 3
   },
   "file_extension": ".py",
   "mimetype": "text/x-python",
   "name": "python",
   "nbconvert_exporter": "python",
   "pygments_lexer": "ipython3",
   "version": "3.9.13"
  }
 },
 "nbformat": 4,
 "nbformat_minor": 5
}
